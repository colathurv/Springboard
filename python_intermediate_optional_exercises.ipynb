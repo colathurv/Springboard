{
 "cells": [
  {
   "cell_type": "code",
   "execution_count": 31,
   "metadata": {},
   "outputs": [],
   "source": [
    "from IPython.core.interactiveshell import InteractiveShell\n",
    "InteractiveShell.ast_node_interactivity = \"all\""
   ]
  },
  {
   "cell_type": "markdown",
   "metadata": {},
   "source": [
    "## Group Anagram Challenge (Leetcode)"
   ]
  },
  {
   "cell_type": "code",
   "execution_count": null,
   "metadata": {},
   "outputs": [],
   "source": [
    "class Solution:\n",
    "    def groupAnagrams(self, strs: List[str]) -> List[List[str]]:\n",
    "        sort_xlt = [''.join(sorted(x)) for x in strs]\n",
    "        #print(sort_xlt)\n",
    "        xlt = []\n",
    "        templt = []\n",
    "        xdict = {}\n",
    "        for i, ele1 in enumerate(sort_xlt):\n",
    "            if ele1 not in xdict.keys():\n",
    "                templt = [strs[i]]\n",
    "                xdict[ele1] = True\n",
    "                for j, ele2 in enumerate(sort_xlt):\n",
    "                    if i != j and ele1 == ele2:\n",
    "                        templt.append(strs[j])\n",
    "                xlt.append(templt)\n",
    "        return xlt"
   ]
  },
  {
   "cell_type": "markdown",
   "metadata": {},
   "source": [
    "## Validate Credit Card Numbers (Leetcode)"
   ]
  },
  {
   "cell_type": "code",
   "execution_count": null,
   "metadata": {},
   "outputs": [],
   "source": [
    "# Enter your code here. Read input from STDIN. Print output to STDOUT\n",
    "import re\n",
    "def is_credit_card_valid(s):\n",
    "    if re.search(\"^[456][0-9]{15}$|^[456][0-9]{3}-[0-9]{4}-[0-9]{4}-[0-9]{4}$\", s):\n",
    "        if not re.search(\"0{5}|1{5}|2{5}|3{5}|4{5}|5{5}|6{5}|7{5}|8{5}|9{5}\", s.replace('-', '')):\n",
    "            return True\n",
    "    else:\n",
    "        return False"
   ]
  },
  {
   "cell_type": "markdown",
   "metadata": {},
   "source": [
    "## Find the Maximal Depth (HackerRank)"
   ]
  },
  {
   "cell_type": "code",
   "execution_count": null,
   "metadata": {},
   "outputs": [],
   "source": [
    "import xml.etree.ElementTree as etree\n",
    "\n",
    "maxdepth = 0\n",
    "def depth(elem, level):\n",
    "    global maxdepth\n",
    "    if level == -1:\n",
    "        level = 0\n",
    "    for child in elem:\n",
    "        depth(child, level + 1)\n",
    "    else:\n",
    "        #print(\"in else\")\n",
    "        maxdepth = max(maxdepth, level)\n",
    "        #print(\"maxdepth\", maxdepth)\n",
    "        level = 0\n",
    "    return maxdepth\n",
    "\n",
    "if __name__ == '__main__':\n",
    "    n = int(input())\n",
    "    xml = \"\"\n",
    "    for i in range(n):\n",
    "        xml =  xml + input() + \"\\n\"\n",
    "    tree = etree.ElementTree(etree.fromstring(xml))\n",
    "    depth(tree.getroot(), -1)\n",
    "    print(maxdepth)"
   ]
  },
  {
   "cell_type": "code",
   "execution_count": null,
   "metadata": {},
   "outputs": [],
   "source": []
  }
 ],
 "metadata": {
  "kernelspec": {
   "display_name": "Conda Python3",
   "language": "python",
   "name": "conda-python3"
  },
  "language_info": {
   "codemirror_mode": {
    "name": "ipython",
    "version": 3
   },
   "file_extension": ".py",
   "mimetype": "text/x-python",
   "name": "python",
   "nbconvert_exporter": "python",
   "pygments_lexer": "ipython3",
   "version": "3.8.3"
  }
 },
 "nbformat": 4,
 "nbformat_minor": 4
}
