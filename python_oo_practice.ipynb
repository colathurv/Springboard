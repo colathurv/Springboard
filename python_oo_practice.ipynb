{
 "cells": [
  {
   "cell_type": "code",
   "execution_count": null,
   "metadata": {},
   "outputs": [],
   "source": [
    "from IPython.core.interactiveshell import InteractiveShell\n",
    "InteractiveShell.ast_node_interactivity = \"all\""
   ]
  },
  {
   "cell_type": "code",
   "execution_count": 168,
   "metadata": {},
   "outputs": [
    {
     "data": {
      "text/plain": [
       "'Python serial number generator.'"
      ]
     },
     "execution_count": 168,
     "metadata": {},
     "output_type": "execute_result"
    },
    {
     "data": {
      "text/plain": [
       "'I am a generator. If you start me with something, I will remember it. If you increment it, I will remember it too. The current value I am holding is 100000. I started with 100000'"
      ]
     },
     "execution_count": 168,
     "metadata": {},
     "output_type": "execute_result"
    },
    {
     "data": {
      "text/plain": [
       "100000"
      ]
     },
     "execution_count": 168,
     "metadata": {},
     "output_type": "execute_result"
    },
    {
     "data": {
      "text/plain": [
       "100001"
      ]
     },
     "execution_count": 168,
     "metadata": {},
     "output_type": "execute_result"
    },
    {
     "data": {
      "text/plain": [
       "100002"
      ]
     },
     "execution_count": 168,
     "metadata": {},
     "output_type": "execute_result"
    },
    {
     "data": {
      "text/plain": [
       "'I am a generator. If you start me with something, I will remember it. If you increment it, I will remember it too. The current value I am holding is 100000. I started with 100000'"
      ]
     },
     "execution_count": 168,
     "metadata": {},
     "output_type": "execute_result"
    },
    {
     "data": {
      "text/plain": [
       "'I am a generator. If you start me with something, I will remember it. If you increment it, I will remember it too. The current value I am holding is 1000. I started with 1000'"
      ]
     },
     "execution_count": 168,
     "metadata": {},
     "output_type": "execute_result"
    }
   ],
   "source": [
    "\"\"\"Python serial number generator.\"\"\"\n",
    "\n",
    "class SerialGenerator:\n",
    "    \"\"\"Machine to create unique incrementing serial numbers.\n",
    "    \n",
    "    >>> serial = SerialGenerator(start=100)\n",
    "\n",
    "    >>> serial.generate()\n",
    "    100\n",
    "\n",
    "    >>> serial.generate()\n",
    "    101\n",
    "\n",
    "    >>> serial.generate()\n",
    "    102\n",
    "\n",
    "    >>> serial.reset()\n",
    "\n",
    "    >>> serial.generate()\n",
    "    100\n",
    "    \"\"\"\n",
    "    \n",
    "    def __init__(self, start):\n",
    "        self.current = start\n",
    "        self.start = start\n",
    "    \n",
    "    def generate(self):\n",
    "        temp = self.current\n",
    "        self.current += 1\n",
    "        return temp \n",
    "        \n",
    "    def reset(self):\n",
    "        self.current = self.start\n",
    "    \n",
    "    def __repr__(self):\n",
    "        r = f\"I am a generator. If you start me with something, I will remember it. If you increment it, I will remember it too. The current value I am holding is {self.current}. I started with {self.start}\"\n",
    "        return repr(r)\n",
    "\n",
    "serial = SerialGenerator(start=100000)\n",
    "serial\n",
    "serial.generate()\n",
    "serial.generate()\n",
    "serial.generate()\n",
    "serial.reset()\n",
    "serial\n",
    "serial = SerialGenerator(start=1000)\n",
    "serial\n"
   ]
  },
  {
   "cell_type": "code",
   "execution_count": 169,
   "metadata": {},
   "outputs": [
    {
     "data": {
      "text/plain": [
       "'Word Finder: finds random words from a dictionary.'"
      ]
     },
     "execution_count": 169,
     "metadata": {},
     "output_type": "execute_result"
    }
   ],
   "source": [
    "\"\"\"Word Finder: finds random words from a dictionary.\"\"\"\n",
    "\n",
    "import re\n",
    "import os\n",
    "import random as rand\n",
    "from random import Random\n",
    "\n",
    "class WordFinder:\n",
    "    \n",
    "    def __init__(self, filename):\n",
    "        self.filename = None\n",
    "        self.wordcount = 0\n",
    "        self.wordlist = []\n",
    "        self.get_wordlist(filename)\n",
    "        \n",
    "    def get_wordlist(self, filename):\n",
    "        if os.path.exists(filename):\n",
    "            with open(filename, 'r') as f:\n",
    "                try:\n",
    "                    self.filename = filename\n",
    "                    for line in f:\n",
    "                        line = line.rstrip()\n",
    "                        temp = line.split()\n",
    "                        for w in temp:\n",
    "                            self.wordlist.append(w)\n",
    "                    self.wordcount = len(self.wordlist)\n",
    "                    print (self.wordcount, \"words read\")\n",
    "                except : # whatever reader errors you care about\n",
    "                    print(\"Error Reading File {filename} from which you are finding words\")\n",
    "        \n",
    "    def random(self, seed=None):\n",
    "        if seed is None:\n",
    "            xrand = rand.randrange(1, self.wordcount)\n",
    "        else:\n",
    "            random = Random(seed)\n",
    "            xrand = random.randrange(1, self.wordcount)\n",
    "        return self.wordlist[xrand]"
   ]
  },
  {
   "cell_type": "code",
   "execution_count": 170,
   "metadata": {},
   "outputs": [
    {
     "name": "stdout",
     "output_type": "stream",
     "text": [
      "235886 words read\n"
     ]
    },
    {
     "data": {
      "text/plain": [
       "'cystotomy'"
      ]
     },
     "execution_count": 170,
     "metadata": {},
     "output_type": "execute_result"
    },
    {
     "data": {
      "text/plain": [
       "'helleri'"
      ]
     },
     "execution_count": 170,
     "metadata": {},
     "output_type": "execute_result"
    },
    {
     "data": {
      "text/plain": [
       "'boun'"
      ]
     },
     "execution_count": 170,
     "metadata": {},
     "output_type": "execute_result"
    }
   ],
   "source": [
    "wf = WordFinder(\"words.txt\")\n",
    "wf.random()\n",
    "wf.random()\n",
    "wf.random()"
   ]
  },
  {
   "cell_type": "code",
   "execution_count": 173,
   "metadata": {},
   "outputs": [],
   "source": [
    "class SpecialWordFinder(WordFinder):\n",
    "           \n",
    "    def get_wordlist(self, filename):\n",
    "        if os.path.exists(filename):\n",
    "            with open(filename, 'r') as f:\n",
    "                try:\n",
    "                    self.filename = filename\n",
    "                    for line in f:\n",
    "                        line = line.rstrip()\n",
    "                        if line and not line.startswith('#'):\n",
    "                            temp = line.split()\n",
    "                            for w in temp:\n",
    "                                self.wordlist.append(w)\n",
    "                    self.wordcount = len(self.wordlist)\n",
    "                    print (self.wordcount, \"words read\")\n",
    "                except : # whatever reader errors you care about\n",
    "                    print(\"Error Reading File {filename} from which you are finding words\")\n"
   ]
  },
  {
   "cell_type": "code",
   "execution_count": 174,
   "metadata": {},
   "outputs": [
    {
     "name": "stdout",
     "output_type": "stream",
     "text": [
      "4 words read\n"
     ]
    },
    {
     "data": {
      "text/plain": [
       "'apple'"
      ]
     },
     "execution_count": 174,
     "metadata": {},
     "output_type": "execute_result"
    }
   ],
   "source": [
    "swf = SpecialWordFinder(\"animalwords.txt\")\n",
    "swf.random()"
   ]
  },
  {
   "cell_type": "code",
   "execution_count": 175,
   "metadata": {},
   "outputs": [
    {
     "name": "stdout",
     "output_type": "stream",
     "text": [
      "235886 words read\n",
      "test1 passed\n",
      "4 words read\n",
      "test2 passed\n"
     ]
    }
   ],
   "source": [
    "import pytest\n",
    "\n",
    "def test1():\n",
    "    wf = WordFinder(\"words.txt\")\n",
    "    assert wf.random(500) == 'tump', 'test1 failed'\n",
    "    print('test1 passed')\n",
    "\n",
    "def test2():\n",
    "    swf = SpecialWordFinder(\"animalwords.txt\")\n",
    "    assert swf.random(3) == 'parsnips', 'test2 failed'\n",
    "    print('test2 passed')\n",
    "\n",
    "test1()\n",
    "test2()\n"
   ]
  },
  {
   "cell_type": "code",
   "execution_count": null,
   "metadata": {},
   "outputs": [],
   "source": []
  },
  {
   "cell_type": "code",
   "execution_count": null,
   "metadata": {},
   "outputs": [],
   "source": []
  },
  {
   "cell_type": "code",
   "execution_count": null,
   "metadata": {},
   "outputs": [],
   "source": []
  },
  {
   "cell_type": "code",
   "execution_count": null,
   "metadata": {},
   "outputs": [],
   "source": []
  }
 ],
 "metadata": {
  "kernelspec": {
   "display_name": "Conda Python3",
   "language": "python",
   "name": "conda-python3"
  },
  "language_info": {
   "codemirror_mode": {
    "name": "ipython",
    "version": 3
   },
   "file_extension": ".py",
   "mimetype": "text/x-python",
   "name": "python",
   "nbconvert_exporter": "python",
   "pygments_lexer": "ipython3",
   "version": "3.8.3"
  }
 },
 "nbformat": 4,
 "nbformat_minor": 4
}
